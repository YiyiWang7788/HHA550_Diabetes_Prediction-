{
 "cells": [
  {
   "cell_type": "code",
   "execution_count": 1,
   "id": "dd83619d",
   "metadata": {},
   "outputs": [
    {
     "name": "stdout",
     "output_type": "stream",
     "text": [
      "Requirement already satisfied: seaborn in d:\\users\\yiyi0\\anaconda3\\lib\\site-packages (0.11.2)\n",
      "Requirement already satisfied: numpy>=1.15 in d:\\users\\yiyi0\\anaconda3\\lib\\site-packages (from seaborn) (1.20.3)\n",
      "Requirement already satisfied: pandas>=0.23 in d:\\users\\yiyi0\\anaconda3\\lib\\site-packages (from seaborn) (1.3.4)\n",
      "Requirement already satisfied: scipy>=1.0 in d:\\users\\yiyi0\\anaconda3\\lib\\site-packages (from seaborn) (1.7.1)\n",
      "Requirement already satisfied: matplotlib>=2.2 in d:\\users\\yiyi0\\anaconda3\\lib\\site-packages (from seaborn) (3.4.3)\n",
      "Requirement already satisfied: pyparsing>=2.2.1 in d:\\users\\yiyi0\\anaconda3\\lib\\site-packages (from matplotlib>=2.2->seaborn) (3.0.4)\n",
      "Requirement already satisfied: pillow>=6.2.0 in d:\\users\\yiyi0\\anaconda3\\lib\\site-packages (from matplotlib>=2.2->seaborn) (8.4.0)\n",
      "Requirement already satisfied: python-dateutil>=2.7 in d:\\users\\yiyi0\\anaconda3\\lib\\site-packages (from matplotlib>=2.2->seaborn) (2.8.2)\n",
      "Requirement already satisfied: kiwisolver>=1.0.1 in d:\\users\\yiyi0\\anaconda3\\lib\\site-packages (from matplotlib>=2.2->seaborn) (1.3.1)\n",
      "Requirement already satisfied: cycler>=0.10 in d:\\users\\yiyi0\\anaconda3\\lib\\site-packages (from matplotlib>=2.2->seaborn) (0.10.0)\n",
      "Requirement already satisfied: six in d:\\users\\yiyi0\\anaconda3\\lib\\site-packages (from cycler>=0.10->matplotlib>=2.2->seaborn) (1.16.0)\n",
      "Requirement already satisfied: pytz>=2017.3 in d:\\users\\yiyi0\\anaconda3\\lib\\site-packages (from pandas>=0.23->seaborn) (2021.3)\n",
      "Requirement already satisfied: missingno in d:\\users\\yiyi0\\anaconda3\\lib\\site-packages (0.5.1)\n",
      "Requirement already satisfied: seaborn in d:\\users\\yiyi0\\anaconda3\\lib\\site-packages (from missingno) (0.11.2)\n",
      "Requirement already satisfied: scipy in d:\\users\\yiyi0\\anaconda3\\lib\\site-packages (from missingno) (1.7.1)\n",
      "Requirement already satisfied: numpy in d:\\users\\yiyi0\\anaconda3\\lib\\site-packages (from missingno) (1.20.3)\n",
      "Requirement already satisfied: matplotlib in d:\\users\\yiyi0\\anaconda3\\lib\\site-packages (from missingno) (3.4.3)\n",
      "Requirement already satisfied: pillow>=6.2.0 in d:\\users\\yiyi0\\anaconda3\\lib\\site-packages (from matplotlib->missingno) (8.4.0)\n",
      "Requirement already satisfied: cycler>=0.10 in d:\\users\\yiyi0\\anaconda3\\lib\\site-packages (from matplotlib->missingno) (0.10.0)\n",
      "Requirement already satisfied: kiwisolver>=1.0.1 in d:\\users\\yiyi0\\anaconda3\\lib\\site-packages (from matplotlib->missingno) (1.3.1)\n",
      "Requirement already satisfied: pyparsing>=2.2.1 in d:\\users\\yiyi0\\anaconda3\\lib\\site-packages (from matplotlib->missingno) (3.0.4)\n",
      "Requirement already satisfied: python-dateutil>=2.7 in d:\\users\\yiyi0\\anaconda3\\lib\\site-packages (from matplotlib->missingno) (2.8.2)\n",
      "Requirement already satisfied: six in d:\\users\\yiyi0\\anaconda3\\lib\\site-packages (from cycler>=0.10->matplotlib->missingno) (1.16.0)\n",
      "Requirement already satisfied: pandas>=0.23 in d:\\users\\yiyi0\\anaconda3\\lib\\site-packages (from seaborn->missingno) (1.3.4)\n",
      "Requirement already satisfied: pytz>=2017.3 in d:\\users\\yiyi0\\anaconda3\\lib\\site-packages (from pandas>=0.23->seaborn->missingno) (2021.3)\n",
      "Requirement already satisfied: xgboost in d:\\users\\yiyi0\\anaconda3\\lib\\site-packages (1.5.2)\n",
      "Requirement already satisfied: scipy in d:\\users\\yiyi0\\anaconda3\\lib\\site-packages (from xgboost) (1.7.1)\n",
      "Requirement already satisfied: numpy in d:\\users\\yiyi0\\anaconda3\\lib\\site-packages (from xgboost) (1.20.3)\n",
      "Requirement already satisfied: catboost in d:\\users\\yiyi0\\anaconda3\\lib\\site-packages (1.0.4)\n",
      "Requirement already satisfied: six in d:\\users\\yiyi0\\anaconda3\\lib\\site-packages (from catboost) (1.16.0)\n",
      "Requirement already satisfied: scipy in d:\\users\\yiyi0\\anaconda3\\lib\\site-packages (from catboost) (1.7.1)\n",
      "Requirement already satisfied: plotly in d:\\users\\yiyi0\\anaconda3\\lib\\site-packages (from catboost) (5.6.0)\n",
      "Requirement already satisfied: pandas>=0.24.0 in d:\\users\\yiyi0\\anaconda3\\lib\\site-packages (from catboost) (1.3.4)\n",
      "Requirement already satisfied: graphviz in d:\\users\\yiyi0\\anaconda3\\lib\\site-packages (from catboost) (0.19.1)\n",
      "Requirement already satisfied: matplotlib in d:\\users\\yiyi0\\anaconda3\\lib\\site-packages (from catboost) (3.4.3)\n",
      "Requirement already satisfied: numpy>=1.16.0 in d:\\users\\yiyi0\\anaconda3\\lib\\site-packages (from catboost) (1.20.3)\n",
      "Requirement already satisfied: python-dateutil>=2.7.3 in d:\\users\\yiyi0\\anaconda3\\lib\\site-packages (from pandas>=0.24.0->catboost) (2.8.2)\n",
      "Requirement already satisfied: pytz>=2017.3 in d:\\users\\yiyi0\\anaconda3\\lib\\site-packages (from pandas>=0.24.0->catboost) (2021.3)\n",
      "Requirement already satisfied: cycler>=0.10 in d:\\users\\yiyi0\\anaconda3\\lib\\site-packages (from matplotlib->catboost) (0.10.0)\n",
      "Requirement already satisfied: pyparsing>=2.2.1 in d:\\users\\yiyi0\\anaconda3\\lib\\site-packages (from matplotlib->catboost) (3.0.4)\n",
      "Requirement already satisfied: pillow>=6.2.0 in d:\\users\\yiyi0\\anaconda3\\lib\\site-packages (from matplotlib->catboost) (8.4.0)\n",
      "Requirement already satisfied: kiwisolver>=1.0.1 in d:\\users\\yiyi0\\anaconda3\\lib\\site-packages (from matplotlib->catboost) (1.3.1)\n",
      "Requirement already satisfied: tenacity>=6.2.0 in d:\\users\\yiyi0\\anaconda3\\lib\\site-packages (from plotly->catboost) (8.0.1)\n",
      "Requirement already satisfied: regex in d:\\users\\yiyi0\\anaconda3\\lib\\site-packages (2021.8.3)\n",
      "Requirement already satisfied: sklearn in d:\\users\\yiyi0\\anaconda3\\lib\\site-packages (0.0)\n",
      "Requirement already satisfied: scikit-learn in d:\\users\\yiyi0\\anaconda3\\lib\\site-packages (from sklearn) (1.0.2)\n",
      "Requirement already satisfied: numpy>=1.14.6 in d:\\users\\yiyi0\\anaconda3\\lib\\site-packages (from scikit-learn->sklearn) (1.20.3)\n",
      "Requirement already satisfied: scipy>=1.1.0 in d:\\users\\yiyi0\\anaconda3\\lib\\site-packages (from scikit-learn->sklearn) (1.7.1)\n",
      "Requirement already satisfied: threadpoolctl>=2.0.0 in d:\\users\\yiyi0\\anaconda3\\lib\\site-packages (from scikit-learn->sklearn) (2.2.0)\n",
      "Requirement already satisfied: joblib>=0.11 in d:\\users\\yiyi0\\anaconda3\\lib\\site-packages (from scikit-learn->sklearn) (1.1.0)\n",
      "Requirement already satisfied: pandas in d:\\users\\yiyi0\\anaconda3\\lib\\site-packages (1.3.4)\n",
      "Requirement already satisfied: pytz>=2017.3 in d:\\users\\yiyi0\\anaconda3\\lib\\site-packages (from pandas) (2021.3)\n",
      "Requirement already satisfied: numpy>=1.17.3 in d:\\users\\yiyi0\\anaconda3\\lib\\site-packages (from pandas) (1.20.3)\n",
      "Requirement already satisfied: python-dateutil>=2.7.3 in d:\\users\\yiyi0\\anaconda3\\lib\\site-packages (from pandas) (2.8.2)\n",
      "Requirement already satisfied: six>=1.5 in d:\\users\\yiyi0\\anaconda3\\lib\\site-packages (from python-dateutil>=2.7.3->pandas) (1.16.0)\n",
      "Requirement already satisfied: numpy in d:\\users\\yiyi0\\anaconda3\\lib\\site-packages (1.20.3)\n",
      "Requirement already satisfied: imblearn in d:\\users\\yiyi0\\anaconda3\\lib\\site-packages (0.0)\n",
      "Requirement already satisfied: imbalanced-learn in d:\\users\\yiyi0\\anaconda3\\lib\\site-packages (from imblearn) (0.9.0)\n",
      "Requirement already satisfied: scikit-learn>=1.0.1 in d:\\users\\yiyi0\\anaconda3\\lib\\site-packages (from imbalanced-learn->imblearn) (1.0.2)\n",
      "Requirement already satisfied: scipy>=1.1.0 in d:\\users\\yiyi0\\anaconda3\\lib\\site-packages (from imbalanced-learn->imblearn) (1.7.1)\n",
      "Requirement already satisfied: numpy>=1.14.6 in d:\\users\\yiyi0\\anaconda3\\lib\\site-packages (from imbalanced-learn->imblearn) (1.20.3)\n",
      "Requirement already satisfied: joblib>=0.11 in d:\\users\\yiyi0\\anaconda3\\lib\\site-packages (from imbalanced-learn->imblearn) (1.1.0)\n",
      "Requirement already satisfied: threadpoolctl>=2.0.0 in d:\\users\\yiyi0\\anaconda3\\lib\\site-packages (from imbalanced-learn->imblearn) (2.2.0)\n",
      "Requirement already satisfied: lightgbm in d:\\users\\yiyi0\\anaconda3\\lib\\site-packages (3.3.2)\n",
      "Requirement already satisfied: scikit-learn!=0.22.0 in d:\\users\\yiyi0\\anaconda3\\lib\\site-packages (from lightgbm) (1.0.2)\n",
      "Requirement already satisfied: wheel in d:\\users\\yiyi0\\anaconda3\\lib\\site-packages (from lightgbm) (0.37.0)\n",
      "Requirement already satisfied: scipy in d:\\users\\yiyi0\\anaconda3\\lib\\site-packages (from lightgbm) (1.7.1)\n",
      "Requirement already satisfied: numpy in d:\\users\\yiyi0\\anaconda3\\lib\\site-packages (from lightgbm) (1.20.3)\n",
      "Requirement already satisfied: threadpoolctl>=2.0.0 in d:\\users\\yiyi0\\anaconda3\\lib\\site-packages (from scikit-learn!=0.22.0->lightgbm) (2.2.0)\n",
      "Requirement already satisfied: joblib>=0.11 in d:\\users\\yiyi0\\anaconda3\\lib\\site-packages (from scikit-learn!=0.22.0->lightgbm) (1.1.0)\n"
     ]
    }
   ],
   "source": [
    " !pip install seaborn\n",
    "!pip install missingno\n",
    "!pip install xgboost\n",
    "!pip install catboost\n",
    "!pip install regex\n",
    "!pip install sklearn\n",
    "!pip install pandas\n",
    "!pip install numpy\n",
    "!pip install imblearn\n",
    "!pip install lightgbm"
   ]
  },
  {
   "cell_type": "markdown",
   "id": "d3ff792a",
   "metadata": {},
   "source": [
    "# Import packages "
   ]
  },
  {
   "cell_type": "code",
   "execution_count": 48,
   "id": "38dc75ca",
   "metadata": {},
   "outputs": [
    {
     "name": "stdout",
     "output_type": "stream",
     "text": [
      "Successful\n"
     ]
    }
   ],
   "source": [
    "import pandas as pd   # data processing, CSV file I/O (e.g. pd.read_csv)\n",
    "import numpy as np   # linear algebra\n",
    "import matplotlib.pyplot as plt  #graphs and plots\n",
    "import seaborn as sns   #data visualizations \n",
    "import csv # Some extra functionalities for csv  files - reading it as a dictionary\n",
    "from lightgbm import LGBMClassifier #sklearn is for machine learning and statistical modeling including classification, regression, clustering and dimensionality reduction \n",
    "\n",
    "from sklearn.model_selection import train_test_split, cross_validate   #break up dataset into train and test sets\n",
    "\n",
    "from sklearn.linear_model import LogisticRegression\n",
    "from sklearn.ensemble import RandomForestClassifier\n",
    "from sklearn.model_selection import cross_val_score\n",
    "from sklearn.preprocessing import StandardScaler, MinMaxScaler\n",
    "\n",
    "\n",
    "# importing python library for working with missing data\n",
    "import missingno as msno\n",
    "# To install missingno use: !pip install missingno\n",
    "import re    # This library is used to perform regex pattern matching\n",
    "\n",
    "# import various functions from sklearn\n",
    "from sklearn.linear_model import LogisticRegression\n",
    "from sklearn.neighbors import KNeighborsClassifier\n",
    "from sklearn.tree import DecisionTreeClassifier\n",
    "from sklearn.ensemble import RandomForestClassifier\n",
    "from sklearn.svm import LinearSVC\n",
    "from sklearn.ensemble import GradientBoostingClassifier\n",
    "from catboost import CatBoostClassifier\n",
    "import xgboost as xgb\n",
    "from sklearn.metrics import roc_auc_score, accuracy_score, precision_score, recall_score, classification_report, make_scorer\n",
    "from sklearn.linear_model import SGDClassifier\n",
    "from sklearn.linear_model import LinearRegression\n",
    "from sklearn.model_selection import GridSearchCV, RandomizedSearchCV, train_test_split\n",
    "print(\"Successful\")"
   ]
  },
  {
   "cell_type": "code",
   "execution_count": 49,
   "id": "70acee0a",
   "metadata": {},
   "outputs": [
    {
     "name": "stdout",
     "output_type": "stream",
     "text": [
      "Successful\n"
     ]
    }
   ],
   "source": [
    "from sklearn.model_selection import KFold,cross_val_score, RepeatedStratifiedKFold,StratifiedKFold\n",
    "from sklearn.impute import SimpleImputer\n",
    "from sklearn.pipeline import Pipeline\n",
    "from sklearn.discriminant_analysis import LinearDiscriminantAnalysis\n",
    "from sklearn.preprocessing import OneHotEncoder,StandardScaler,PowerTransformer\n",
    "from sklearn.compose import ColumnTransformer\n",
    "from sklearn.pipeline import Pipeline\n",
    "from sklearn.impute import KNNImputer,SimpleImputer\n",
    "from sklearn.compose import make_column_transformer\n",
    "from imblearn.pipeline import make_pipeline\n",
    "from sklearn.svm import SVC\n",
    "from sklearn.impute import SimpleImputer\n",
    "from sklearn.dummy import DummyClassifier\n",
    "from imblearn.over_sampling import SMOTE\n",
    "from sklearn.neighbors import KNeighborsClassifier\n",
    "from sklearn.metrics import confusion_matrix, accuracy_score, balanced_accuracy_score,\\\n",
    "                            precision_score, recall_score, roc_auc_score,\\\n",
    "                            plot_confusion_matrix, classification_report, plot_roc_curve, f1_score\n",
    "\n",
    "import plotly \n",
    "import plotly.express as px\n",
    "import plotly.graph_objs as go\n",
    "import plotly.offline as py\n",
    "from plotly.offline import iplot\n",
    "from plotly.subplots import make_subplots\n",
    "import plotly.figure_factory as ff\n",
    "\n",
    "import warnings\n",
    "warnings.filterwarnings(\"ignore\")\n",
    "print(\"Successful\")"
   ]
  },
  {
   "cell_type": "markdown",
   "id": "0e3003cb",
   "metadata": {},
   "source": [
    "# Upload dataset"
   ]
  },
  {
   "cell_type": "code",
   "execution_count": 50,
   "id": "932e7651",
   "metadata": {
    "scrolled": true
   },
   "outputs": [
    {
     "data": {
      "text/html": [
       "<div>\n",
       "<style scoped>\n",
       "    .dataframe tbody tr th:only-of-type {\n",
       "        vertical-align: middle;\n",
       "    }\n",
       "\n",
       "    .dataframe tbody tr th {\n",
       "        vertical-align: top;\n",
       "    }\n",
       "\n",
       "    .dataframe thead th {\n",
       "        text-align: right;\n",
       "    }\n",
       "</style>\n",
       "<table border=\"1\" class=\"dataframe\">\n",
       "  <thead>\n",
       "    <tr style=\"text-align: right;\">\n",
       "      <th></th>\n",
       "      <th>race</th>\n",
       "      <th>gender</th>\n",
       "      <th>age</th>\n",
       "      <th>time_in_hospital</th>\n",
       "      <th>num_lab_procedures</th>\n",
       "      <th>num_procedures</th>\n",
       "      <th>num_medications</th>\n",
       "      <th>number_diag0ses</th>\n",
       "      <th>metformin</th>\n",
       "      <th>insulin</th>\n",
       "      <th>change</th>\n",
       "      <th>readmitted</th>\n",
       "      <th>readmit_yn</th>\n",
       "    </tr>\n",
       "  </thead>\n",
       "  <tbody>\n",
       "    <tr>\n",
       "      <th>0</th>\n",
       "      <td>2</td>\n",
       "      <td>1</td>\n",
       "      <td>5</td>\n",
       "      <td>1</td>\n",
       "      <td>41</td>\n",
       "      <td>0</td>\n",
       "      <td>1</td>\n",
       "      <td>1</td>\n",
       "      <td>0</td>\n",
       "      <td>0</td>\n",
       "      <td>0</td>\n",
       "      <td>0</td>\n",
       "      <td>0</td>\n",
       "    </tr>\n",
       "    <tr>\n",
       "      <th>1</th>\n",
       "      <td>2</td>\n",
       "      <td>1</td>\n",
       "      <td>15</td>\n",
       "      <td>3</td>\n",
       "      <td>59</td>\n",
       "      <td>0</td>\n",
       "      <td>18</td>\n",
       "      <td>9</td>\n",
       "      <td>0</td>\n",
       "      <td>1</td>\n",
       "      <td>1</td>\n",
       "      <td>2</td>\n",
       "      <td>1</td>\n",
       "    </tr>\n",
       "    <tr>\n",
       "      <th>2</th>\n",
       "      <td>1</td>\n",
       "      <td>1</td>\n",
       "      <td>25</td>\n",
       "      <td>2</td>\n",
       "      <td>11</td>\n",
       "      <td>5</td>\n",
       "      <td>13</td>\n",
       "      <td>6</td>\n",
       "      <td>0</td>\n",
       "      <td>0</td>\n",
       "      <td>0</td>\n",
       "      <td>0</td>\n",
       "      <td>0</td>\n",
       "    </tr>\n",
       "    <tr>\n",
       "      <th>3</th>\n",
       "      <td>2</td>\n",
       "      <td>2</td>\n",
       "      <td>35</td>\n",
       "      <td>2</td>\n",
       "      <td>44</td>\n",
       "      <td>1</td>\n",
       "      <td>16</td>\n",
       "      <td>7</td>\n",
       "      <td>0</td>\n",
       "      <td>1</td>\n",
       "      <td>1</td>\n",
       "      <td>0</td>\n",
       "      <td>0</td>\n",
       "    </tr>\n",
       "    <tr>\n",
       "      <th>4</th>\n",
       "      <td>2</td>\n",
       "      <td>2</td>\n",
       "      <td>45</td>\n",
       "      <td>1</td>\n",
       "      <td>51</td>\n",
       "      <td>0</td>\n",
       "      <td>8</td>\n",
       "      <td>5</td>\n",
       "      <td>0</td>\n",
       "      <td>3</td>\n",
       "      <td>1</td>\n",
       "      <td>0</td>\n",
       "      <td>0</td>\n",
       "    </tr>\n",
       "    <tr>\n",
       "      <th>...</th>\n",
       "      <td>...</td>\n",
       "      <td>...</td>\n",
       "      <td>...</td>\n",
       "      <td>...</td>\n",
       "      <td>...</td>\n",
       "      <td>...</td>\n",
       "      <td>...</td>\n",
       "      <td>...</td>\n",
       "      <td>...</td>\n",
       "      <td>...</td>\n",
       "      <td>...</td>\n",
       "      <td>...</td>\n",
       "      <td>...</td>\n",
       "    </tr>\n",
       "    <tr>\n",
       "      <th>101761</th>\n",
       "      <td>1</td>\n",
       "      <td>2</td>\n",
       "      <td>75</td>\n",
       "      <td>3</td>\n",
       "      <td>51</td>\n",
       "      <td>0</td>\n",
       "      <td>16</td>\n",
       "      <td>9</td>\n",
       "      <td>3</td>\n",
       "      <td>2</td>\n",
       "      <td>1</td>\n",
       "      <td>2</td>\n",
       "      <td>1</td>\n",
       "    </tr>\n",
       "    <tr>\n",
       "      <th>101762</th>\n",
       "      <td>1</td>\n",
       "      <td>1</td>\n",
       "      <td>85</td>\n",
       "      <td>5</td>\n",
       "      <td>33</td>\n",
       "      <td>3</td>\n",
       "      <td>18</td>\n",
       "      <td>9</td>\n",
       "      <td>0</td>\n",
       "      <td>3</td>\n",
       "      <td>0</td>\n",
       "      <td>0</td>\n",
       "      <td>0</td>\n",
       "    </tr>\n",
       "    <tr>\n",
       "      <th>101763</th>\n",
       "      <td>2</td>\n",
       "      <td>2</td>\n",
       "      <td>75</td>\n",
       "      <td>1</td>\n",
       "      <td>53</td>\n",
       "      <td>0</td>\n",
       "      <td>9</td>\n",
       "      <td>13</td>\n",
       "      <td>3</td>\n",
       "      <td>2</td>\n",
       "      <td>1</td>\n",
       "      <td>0</td>\n",
       "      <td>0</td>\n",
       "    </tr>\n",
       "    <tr>\n",
       "      <th>101764</th>\n",
       "      <td>2</td>\n",
       "      <td>1</td>\n",
       "      <td>85</td>\n",
       "      <td>10</td>\n",
       "      <td>45</td>\n",
       "      <td>2</td>\n",
       "      <td>21</td>\n",
       "      <td>9</td>\n",
       "      <td>0</td>\n",
       "      <td>1</td>\n",
       "      <td>1</td>\n",
       "      <td>0</td>\n",
       "      <td>0</td>\n",
       "    </tr>\n",
       "    <tr>\n",
       "      <th>101765</th>\n",
       "      <td>2</td>\n",
       "      <td>2</td>\n",
       "      <td>75</td>\n",
       "      <td>6</td>\n",
       "      <td>13</td>\n",
       "      <td>3</td>\n",
       "      <td>3</td>\n",
       "      <td>9</td>\n",
       "      <td>0</td>\n",
       "      <td>0</td>\n",
       "      <td>0</td>\n",
       "      <td>0</td>\n",
       "      <td>0</td>\n",
       "    </tr>\n",
       "  </tbody>\n",
       "</table>\n",
       "<p>101766 rows × 13 columns</p>\n",
       "</div>"
      ],
      "text/plain": [
       "        race  gender  age  time_in_hospital  num_lab_procedures  \\\n",
       "0          2       1    5                 1                  41   \n",
       "1          2       1   15                 3                  59   \n",
       "2          1       1   25                 2                  11   \n",
       "3          2       2   35                 2                  44   \n",
       "4          2       2   45                 1                  51   \n",
       "...      ...     ...  ...               ...                 ...   \n",
       "101761     1       2   75                 3                  51   \n",
       "101762     1       1   85                 5                  33   \n",
       "101763     2       2   75                 1                  53   \n",
       "101764     2       1   85                10                  45   \n",
       "101765     2       2   75                 6                  13   \n",
       "\n",
       "        num_procedures  num_medications  number_diag0ses  metformin  insulin  \\\n",
       "0                    0                1                1          0        0   \n",
       "1                    0               18                9          0        1   \n",
       "2                    5               13                6          0        0   \n",
       "3                    1               16                7          0        1   \n",
       "4                    0                8                5          0        3   \n",
       "...                ...              ...              ...        ...      ...   \n",
       "101761               0               16                9          3        2   \n",
       "101762               3               18                9          0        3   \n",
       "101763               0                9               13          3        2   \n",
       "101764               2               21                9          0        1   \n",
       "101765               3                3                9          0        0   \n",
       "\n",
       "        change  readmitted  readmit_yn  \n",
       "0            0           0           0  \n",
       "1            1           2           1  \n",
       "2            0           0           0  \n",
       "3            1           0           0  \n",
       "4            1           0           0  \n",
       "...        ...         ...         ...  \n",
       "101761       1           2           1  \n",
       "101762       0           0           0  \n",
       "101763       1           0           0  \n",
       "101764       1           0           0  \n",
       "101765       0           0           0  \n",
       "\n",
       "[101766 rows x 13 columns]"
      ]
     },
     "execution_count": 50,
     "metadata": {},
     "output_type": "execute_result"
    }
   ],
   "source": [
    "diabetes = pd.read_csv('https://raw.githubusercontent.com/YiyiWang7788/HHA550_Diabetes_Prediction-/main/Dataset/Clinical%20Diabetes%20Data%20Final%20Project%20(1).csv?token=GHSAT0AAAAAABS3LUOHBCNX4RWLUYIA5WUCYSUVNKQ')\n",
    "diabetes"
   ]
  },
  {
   "cell_type": "markdown",
   "id": "3bdb2743",
   "metadata": {},
   "source": [
    "# Breaking the data up into Train & Test"
   ]
  },
  {
   "cell_type": "code",
   "execution_count": 51,
   "id": "7c8f35e9",
   "metadata": {},
   "outputs": [],
   "source": [
    "train_df, valid_df, test_df = np.split(diabetes.sample(frac=1, random_state=42), \n",
    "                                       [int(.7*len(diabetes)), int(0.85*len(diabetes))])\n",
    "train_df = train_df.reset_index(drop = True)\n",
    "valid_df = valid_df.reset_index(drop = True)\n",
    "test_df = test_df.reset_index(drop = True)"
   ]
  },
  {
   "cell_type": "code",
   "execution_count": 52,
   "id": "e450ab26",
   "metadata": {},
   "outputs": [
    {
     "data": {
      "text/plain": [
       "0    54864\n",
       "1    46902\n",
       "Name: readmit_yn, dtype: int64"
      ]
     },
     "execution_count": 52,
     "metadata": {},
     "output_type": "execute_result"
    }
   ],
   "source": [
    "diabetes.readmit_yn.value_counts()\n",
    "# 54864 patients not readimitted to hospitals, 46902 patients had readmitted to hospitals. The number is close to balance. "
   ]
  },
  {
   "cell_type": "code",
   "execution_count": 53,
   "id": "fa27b38c",
   "metadata": {},
   "outputs": [
    {
     "data": {
      "text/plain": [
       "0    54864\n",
       "2    35545\n",
       "1    11357\n",
       "Name: readmitted, dtype: int64"
      ]
     },
     "execution_count": 53,
     "metadata": {},
     "output_type": "execute_result"
    }
   ],
   "source": [
    "diabetes.readmitted.value_counts()"
   ]
  },
  {
   "cell_type": "code",
   "execution_count": 54,
   "id": "595c82fa",
   "metadata": {},
   "outputs": [
    {
     "data": {
      "text/plain": [
       "0    38357\n",
       "1    32879\n",
       "Name: readmit_yn, dtype: int64"
      ]
     },
     "execution_count": 54,
     "metadata": {},
     "output_type": "execute_result"
    }
   ],
   "source": [
    "train_df.readmit_yn.value_counts()"
   ]
  },
  {
   "cell_type": "code",
   "execution_count": 55,
   "id": "5d447946",
   "metadata": {},
   "outputs": [
    {
     "data": {
      "text/plain": [
       "0    8263\n",
       "1    7002\n",
       "Name: readmit_yn, dtype: int64"
      ]
     },
     "execution_count": 55,
     "metadata": {},
     "output_type": "execute_result"
    }
   ],
   "source": [
    "valid_df.readmit_yn.value_counts()"
   ]
  },
  {
   "cell_type": "code",
   "execution_count": 56,
   "id": "490b61d7",
   "metadata": {},
   "outputs": [
    {
     "data": {
      "text/plain": [
       "0    8244\n",
       "1    7021\n",
       "Name: readmit_yn, dtype: int64"
      ]
     },
     "execution_count": 56,
     "metadata": {},
     "output_type": "execute_result"
    }
   ],
   "source": [
    "test_df.readmit_yn.value_counts()"
   ]
  },
  {
   "cell_type": "markdown",
   "id": "3aad97fc",
   "metadata": {},
   "source": [
    "# Treating the Imbalance in the Data"
   ]
  },
  {
   "cell_type": "raw",
   "id": "61b3220a",
   "metadata": {},
   "source": [
    "Imbalance in the data means that one of the classes in the data is too less as compared to the others. Typically, it is better to balance the data in some way to give the positives more weight. There are 3 strategies that are typically utilized:\n",
    "\n",
    "* Sub-sample the more dominant class: use a random subset of the negatives\n",
    "* Over-sample the imbalanced class: use the same positive samples multiple times\n",
    "* Create synthetic positive data\n",
    "\n",
    "Usually, you will want to use the latter two methods if you only have a handful of positive cases. Since we have a few thousand positive cases, let's use the sub-sample approach. Here, we will create a balanced training data set that has 50% positive and 50% negative. You can also play with this ratio to see if you can get an improvement."
   ]
  },
  {
   "cell_type": "code",
   "execution_count": 57,
   "id": "daf8c49f",
   "metadata": {},
   "outputs": [],
   "source": [
    "def calc_prevalence(y_actual):\n",
    "    \n",
    "    '''\n",
    "    This function is to understand the ratio/distribution of the classes that we are going to predict for.\n",
    "    \n",
    "    Params:\n",
    "    1. y_actual: The target feature\n",
    "    \n",
    "    Return:\n",
    "    1. (sum(y_actual)/len(y_actual)): The ratio of the postive class in the comlpete data.\n",
    "    '''\n",
    "    \n",
    "    return (sum(y_actual)/len(y_actual))"
   ]
  },
  {
   "cell_type": "code",
   "execution_count": 58,
   "id": "38fe005e",
   "metadata": {},
   "outputs": [
    {
     "name": "stdout",
     "output_type": "stream",
     "text": [
      "Train balanced prevalence(n = 65758):0.500\n"
     ]
    }
   ],
   "source": [
    "# split the training data into positive and negative\n",
    "rows_pos = train_df.readmit_yn == 1\n",
    "df_train_pos = train_df.loc[rows_pos]\n",
    "df_train_neg = train_df.loc[~rows_pos]\n",
    "\n",
    "# merge the balanced data\n",
    "readmit_df_balanced = pd.concat([df_train_pos, df_train_neg.sample(n = len(df_train_pos), random_state = 111)],axis = 0)\n",
    "\n",
    "# shuffle the order of training samples \n",
    "readmit_df_balanced = readmit_df_balanced.sample(n = len(readmit_df_balanced), random_state = 42).reset_index(drop = True)\n",
    "\n",
    "print('Train balanced prevalence(n = %d):%.3f'%(len(readmit_df_balanced), \\\n",
    "                                                calc_prevalence(readmit_df_balanced.readmit_yn.values)))"
   ]
  },
  {
   "cell_type": "code",
   "execution_count": 59,
   "id": "b0873ab8",
   "metadata": {},
   "outputs": [
    {
     "data": {
      "text/plain": [
       "0    32879\n",
       "1    32879\n",
       "Name: readmit_yn, dtype: int64"
      ]
     },
     "execution_count": 59,
     "metadata": {},
     "output_type": "execute_result"
    }
   ],
   "source": [
    "readmit_df_balanced.readmit_yn.value_counts()"
   ]
  },
  {
   "cell_type": "code",
   "execution_count": 60,
   "id": "4e6ce6de",
   "metadata": {},
   "outputs": [],
   "source": [
    "X_train = readmit_df_balanced.drop('readmit_yn',axis=1)\n",
    "\n",
    "y_train = readmit_df_balanced['readmit_yn']\n",
    "\n",
    "X_valid = valid_df.drop('readmit_yn',axis=1)\n",
    "\n",
    "y_valid = valid_df['readmit_yn']\n",
    "\n",
    "X_test = test_df.drop('readmit_yn',axis=1)\n",
    "\n",
    "y_test = test_df['readmit_yn']"
   ]
  },
  {
   "cell_type": "code",
   "execution_count": 61,
   "id": "613fb77f",
   "metadata": {},
   "outputs": [
    {
     "data": {
      "text/plain": [
       "Index(['race', 'gender', 'age', 'time_in_hospital', 'num_lab_procedures',\n",
       "       'num_procedures', 'num_medications', 'number_diag0ses', 'metformin',\n",
       "       'insulin', 'change', 'readmitted', 'readmit_yn'],\n",
       "      dtype='object')"
      ]
     },
     "execution_count": 61,
     "metadata": {},
     "output_type": "execute_result"
    }
   ],
   "source": [
    "diabetes.columns"
   ]
  },
  {
   "cell_type": "code",
   "execution_count": 62,
   "id": "ce69919e",
   "metadata": {},
   "outputs": [],
   "source": [
    "scaler=StandardScaler()\n",
    "X_train[['gender', 'age', 'number_diag0ses']] = pd.DataFrame(scaler.fit_transform(X_train[['gender', 'age', 'number_diag0ses']]),columns=['gender', 'age', 'number_diag0ses'])\n",
    "X_valid[['gender', 'age', 'number_diag0ses']] = pd.DataFrame(scaler.transform(X_valid[['gender', 'age', 'number_diag0ses']]),columns=['gender', 'age', 'number_diag0ses'])\n",
    "X_test[['gender', 'age', 'number_diag0ses']] = pd.DataFrame(scaler.transform(X_test[['gender', 'age', 'number_diag0ses']]),columns=['gender', 'age', 'number_diag0ses'])"
   ]
  },
  {
   "cell_type": "markdown",
   "id": "0cdd31d3",
   "metadata": {},
   "source": [
    "# Creating and Understanding Models"
   ]
  },
  {
   "cell_type": "code",
   "execution_count": 63,
   "id": "83ac75cd",
   "metadata": {},
   "outputs": [],
   "source": [
    "def calc_specificity(y_actual, y_pred, thresh):\n",
    "    # calculates specificity\n",
    "    return sum((y_pred < thresh) & (y_actual == 0)) /sum(y_actual ==0)\n",
    "\n",
    "def print_report(y_actual, y_pred, thresh = 0.5):\n",
    "    \n",
    "    '''\n",
    "    This function calculates all the metrics to asses the machine learning models.\n",
    "    \n",
    "    Params:\n",
    "    1. y_actual: The actual values for the target variable.\n",
    "    2. y_pred: The predicted values for the target variable.\n",
    "    3. thresh: The threshold for the probability to be considered as a positive class. Default value 0.5\n",
    "    \n",
    "    Return:\n",
    "    1. AUC\n",
    "    2. Accuracy\n",
    "    3. Recall\n",
    "    4. Precision\n",
    "    5. Specificity\n",
    "    '''\n",
    "    \n",
    "    auc = roc_auc_score(y_actual, y_pred)\n",
    "    accuracy = accuracy_score(y_actual, (y_pred > thresh))\n",
    "    recall = recall_score(y_actual, (y_pred > thresh))\n",
    "    precision = precision_score(y_actual, (y_pred > thresh))\n",
    "    specificity = calc_specificity(y_actual, y_pred, thresh)\n",
    "    print('AUC:%.3f'%auc)\n",
    "    print('accuracy:%.3f'%accuracy)\n",
    "    print('recall:%.3f'%recall)\n",
    "    print('precision:%.3f'%precision)\n",
    "    print('specificity:%.3f'%specificity)\n",
    "    print('prevalence:%.3f'%calc_prevalence(y_actual))\n",
    "    print(' ')\n",
    "    return auc, accuracy, recall, precision, specificity"
   ]
  },
  {
   "cell_type": "markdown",
   "id": "22fb1911",
   "metadata": {},
   "source": [
    "## Linear Regression"
   ]
  },
  {
   "cell_type": "code",
   "execution_count": 64,
   "id": "5b6f8bbd",
   "metadata": {},
   "outputs": [
    {
     "data": {
      "text/plain": [
       "array([1.07641049, 1.05734696, 1.09170935, ..., 1.06840169, 1.05299515,\n",
       "       0.06825697])"
      ]
     },
     "execution_count": 64,
     "metadata": {},
     "output_type": "execute_result"
    }
   ],
   "source": [
    "lnr = LinearRegression()\n",
    "lnr.fit(X_train, y_train)\n",
    "\n",
    "y_valid_preds = lnr.predict(X_valid)\n",
    "y_valid_preds"
   ]
  },
  {
   "cell_type": "markdown",
   "id": "cd63b96c",
   "metadata": {},
   "source": [
    "#### The linear Regression is positive, based on the outputs array([1.07641049, 1.05734696, 1.09170935, ..., 1.06840169, 1.05299515, 0.06825697]). "
   ]
  },
  {
   "cell_type": "markdown",
   "id": "77d9ec49",
   "metadata": {},
   "source": [
    "## Logistic Regression"
   ]
  },
  {
   "cell_type": "code",
   "execution_count": 37,
   "id": "0e63cd12",
   "metadata": {},
   "outputs": [
    {
     "name": "stdout",
     "output_type": "stream",
     "text": [
      "Metrics for Validation data:\n",
      "AUC:1.000\n",
      "accuracy:1.000\n",
      "recall:1.000\n",
      "precision:1.000\n",
      "specificity:1.000\n",
      "prevalence:0.459\n",
      " \n"
     ]
    }
   ],
   "source": [
    "lr=LogisticRegression(random_state = 42, solver = 'newton-cg', max_iter = 200)\n",
    "lr.fit(X_train, y_train)\n",
    "\n",
    "y_valid_preds = lr.predict_proba(X_valid)[:,1]\n",
    "\n",
    "print('Metrics for Validation data:')\n",
    "\n",
    "lr_valid_auc, lr_valid_accuracy, lr_valid_recall, \\\n",
    "    lr_valid_precision, lr_valid_specificity = print_report(y_valid,y_valid_preds, 0.5)"
   ]
  },
  {
   "cell_type": "markdown",
   "id": "6f9dbbbb",
   "metadata": {},
   "source": [
    "#### the logistic regression shows the test is accurate and precise based on the results of 1 for AUC, accuracy, recall, precision, and specificity. "
   ]
  }
 ],
 "metadata": {
  "kernelspec": {
   "display_name": "Python 3 (ipykernel)",
   "language": "python",
   "name": "python3"
  },
  "language_info": {
   "codemirror_mode": {
    "name": "ipython",
    "version": 3
   },
   "file_extension": ".py",
   "mimetype": "text/x-python",
   "name": "python",
   "nbconvert_exporter": "python",
   "pygments_lexer": "ipython3",
   "version": "3.9.7"
  }
 },
 "nbformat": 4,
 "nbformat_minor": 5
}
