{
 "cells": [
  {
   "cell_type": "code",
   "execution_count": 8,
   "id": "e06f82bc",
   "metadata": {},
   "outputs": [
    {
     "name": "stdout",
     "output_type": "stream",
     "text": [
      "successful\n"
     ]
    }
   ],
   "source": [
    "import pandas as pd   # data processing, CSV file I/O (e.g. pd.read_csv)\n",
    "import numpy as np   # linear algebra\n",
    "print(\"successful\")"
   ]
  },
  {
   "cell_type": "code",
   "execution_count": null,
   "id": "2240e613",
   "metadata": {},
   "outputs": [],
   "source": []
  }
 ],
 "metadata": {
  "kernelspec": {
   "display_name": "Python 3 (ipykernel)",
   "language": "python",
   "name": "python3"
  },
  "language_info": {
   "codemirror_mode": {
    "name": "ipython",
    "version": 3
   },
   "file_extension": ".py",
   "mimetype": "text/x-python",
   "name": "python",
   "nbconvert_exporter": "python",
   "pygments_lexer": "ipython3",
   "version": "3.9.7"
  }
 },
 "nbformat": 4,
 "nbformat_minor": 5
}
